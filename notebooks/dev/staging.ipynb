{
 "cells": [
  {
   "cell_type": "code",
   "execution_count": 13,
   "metadata": {},
   "outputs": [
    {
     "name": "stdout",
     "output_type": "stream",
     "text": [
      "The autoreload extension is already loaded. To reload it, use:\n",
      "  %reload_ext autoreload\n"
     ]
    }
   ],
   "source": [
    "%load_ext autoreload\n",
    "%autoreload 2"
   ]
  },
  {
   "cell_type": "code",
   "execution_count": 2,
   "metadata": {},
   "outputs": [],
   "source": [
    "from kfp import Client\n",
    "\n",
    "client = Client(host='http://localhost:8080')"
   ]
  },
  {
   "cell_type": "code",
   "execution_count": 20,
   "metadata": {},
   "outputs": [
    {
     "data": {
      "text/plain": [
       "{'simple-returns-ljc9h-1842119181': {'a': 5,\n",
       "  'b': 'Hello There!',\n",
       "  'c': {'key': 'value'}},\n",
       " 'simple-returns-ljc9h-2173387764': {'Output': 'Hello World!'},\n",
       " 'simple-returns-ljc9h-2948094594': {'Output': 2},\n",
       " 'simple-returns-ljc9h-3744801681': {'Output': 1.0},\n",
       " 'simple-returns-ljc9h-4036141853': {'Output': {'a': 4, 'b': 'Hello Friend!'}},\n",
       " 'simple-returns-ljc9h-4142110750': {'Output': 3},\n",
       " 'simple-returns-ljc9h-694853977': {'Output': True}}"
      ]
     },
     "execution_count": 20,
     "metadata": {},
     "output_type": "execute_result"
    }
   ],
   "source": [
    "from kfp_analyze.flat_output_parse import get_run_outputs\n",
    "\n",
    "get_run_outputs(client, '0ce9722a-813b-4bc7-b3a1-6ebef8c0d629')"
   ]
  },
  {
   "cell_type": "code",
   "execution_count": 10,
   "metadata": {},
   "outputs": [],
   "source": [
    "from kfp_analyze.ingestion import pull_run_data"
   ]
  },
  {
   "cell_type": "code",
   "execution_count": 11,
   "metadata": {},
   "outputs": [],
   "source": [
    "d = pull_run_data(client, '0ce9722a-813b-4bc7-b3a1-6ebef8c0d629')"
   ]
  },
  {
   "cell_type": "code",
   "execution_count": 12,
   "metadata": {},
   "outputs": [
    {
     "name": "stdout",
     "output_type": "stream",
     "text": [
      "{'a': 5, 'b': 'Hello There!', 'c': {'key': 'value'}}\n",
      "{'Output': 'Hello World!'}\n",
      "{'Output': 2}\n",
      "{'Output': 1.0}\n",
      "{'Output': {'a': 4, 'b': 'Hello Friend!'}}\n",
      "{'Output': 3}\n",
      "{'Output': True}\n"
     ]
    }
   ],
   "source": [
    "for node in d.get_pod_nodes():\n",
    "    print(node.get_output_data())"
   ]
  },
  {
   "cell_type": "code",
   "execution_count": 81,
   "metadata": {},
   "outputs": [
    {
     "data": {
      "text/plain": [
       "{'name': 'return-int',\n",
       " 'inputs': {},\n",
       " 'outputs': {'artifacts': [{'name': 'return-int-Output',\n",
       "    'path': '/tmp/outputs/Output/data'}]},\n",
       " 'metadata': {'annotations': {'pipelines.kubeflow.org/arguments.parameters': '{\"number\": \"1\"}',\n",
       "   'pipelines.kubeflow.org/component_ref': '{}',\n",
       "   'pipelines.kubeflow.org/component_spec': '{\"implementation\": {\"container\": {\"args\": [\"--number\", {\"inputValue\": \"number\"}, \"----output-paths\", {\"outputPath\": \"Output\"}], \"command\": [\"sh\", \"-ec\", \"program_path=$(mktemp)\\\\nprintf \\\\\"%s\\\\\" \\\\\"$0\\\\\" > \\\\\"$program_path\\\\\"\\\\npython3 -u \\\\\"$program_path\\\\\" \\\\\"$@\\\\\"\\\\n\", \"def return_int(number):\\\\n    return number\\\\n\\\\ndef _serialize_int(int_value: int) -> str:\\\\n    if isinstance(int_value, str):\\\\n        return int_value\\\\n    if not isinstance(int_value, int):\\\\n        raise TypeError(\\'Value \\\\\"{}\\\\\" has type \\\\\"{}\\\\\" instead of int.\\'.format(\\\\n            str(int_value), str(type(int_value))))\\\\n    return str(int_value)\\\\n\\\\nimport argparse\\\\n_parser = argparse.ArgumentParser(prog=\\'Return int\\', description=\\'\\')\\\\n_parser.add_argument(\\\\\"--number\\\\\", dest=\\\\\"number\\\\\", type=int, required=True, default=argparse.SUPPRESS)\\\\n_parser.add_argument(\\\\\"----output-paths\\\\\", dest=\\\\\"_output_paths\\\\\", type=str, nargs=1)\\\\n_parsed_args = vars(_parser.parse_args())\\\\n_output_files = _parsed_args.pop(\\\\\"_output_paths\\\\\", [])\\\\n\\\\n_outputs = return_int(**_parsed_args)\\\\n\\\\n_outputs = [_outputs]\\\\n\\\\n_output_serializers = [\\\\n    _serialize_int,\\\\n\\\\n]\\\\n\\\\nimport os\\\\nfor idx, output_file in enumerate(_output_files):\\\\n    try:\\\\n        os.makedirs(os.path.dirname(output_file))\\\\n    except OSError:\\\\n        pass\\\\n    with open(output_file, \\'w\\') as f:\\\\n        f.write(_output_serializers[idx](_outputs[idx]))\\\\n\"], \"image\": \"python:3.7\"}}, \"inputs\": [{\"name\": \"number\", \"type\": \"Integer\"}], \"name\": \"Return int\", \"outputs\": [{\"name\": \"Output\", \"type\": \"Integer\"}]}',\n",
       "   'pipelines.kubeflow.org/max_cache_staleness': 'P0D',\n",
       "   'sidecar.istio.io/inject': 'false'},\n",
       "  'labels': {'pipelines.kubeflow.org/cache_enabled': 'true',\n",
       "   'pipelines.kubeflow.org/enable_caching': 'true',\n",
       "   'pipelines.kubeflow.org/kfp_sdk_version': '1.8.18',\n",
       "   'pipelines.kubeflow.org/pipeline-sdk-type': 'kfp'}},\n",
       " 'container': {'name': '',\n",
       "  'image': 'python:3.7',\n",
       "  'command': ['sh',\n",
       "   '-ec',\n",
       "   'program_path=$(mktemp)\\nprintf \"%s\" \"$0\" > \"$program_path\"\\npython3 -u \"$program_path\" \"$@\"\\n',\n",
       "   'def return_int(number):\\n    return number\\n\\ndef _serialize_int(int_value: int) -> str:\\n    if isinstance(int_value, str):\\n        return int_value\\n    if not isinstance(int_value, int):\\n        raise TypeError(\\'Value \"{}\" has type \"{}\" instead of int.\\'.format(\\n            str(int_value), str(type(int_value))))\\n    return str(int_value)\\n\\nimport argparse\\n_parser = argparse.ArgumentParser(prog=\\'Return int\\', description=\\'\\')\\n_parser.add_argument(\"--number\", dest=\"number\", type=int, required=True, default=argparse.SUPPRESS)\\n_parser.add_argument(\"----output-paths\", dest=\"_output_paths\", type=str, nargs=1)\\n_parsed_args = vars(_parser.parse_args())\\n_output_files = _parsed_args.pop(\"_output_paths\", [])\\n\\n_outputs = return_int(**_parsed_args)\\n\\n_outputs = [_outputs]\\n\\n_output_serializers = [\\n    _serialize_int,\\n\\n]\\n\\nimport os\\nfor idx, output_file in enumerate(_output_files):\\n    try:\\n        os.makedirs(os.path.dirname(output_file))\\n    except OSError:\\n        pass\\n    with open(output_file, \\'w\\') as f:\\n        f.write(_output_serializers[idx](_outputs[idx]))\\n'],\n",
       "  'args': ['--number', '1', '----output-paths', '/tmp/outputs/Output/data'],\n",
       "  'resources': {}}}"
      ]
     },
     "execution_count": 81,
     "metadata": {},
     "output_type": "execute_result"
    }
   ],
   "source": [
    "d.manifest['spec']['templates'][1]"
   ]
  },
  {
   "cell_type": "code",
   "execution_count": null,
   "metadata": {},
   "outputs": [],
   "source": [
    "for t in d.manifest['spec']['templates']:\n",
    "    print(t)"
   ]
  },
  {
   "cell_type": "code",
   "execution_count": 6,
   "metadata": {},
   "outputs": [
    {
     "data": {
      "text/plain": [
       "{'name': 'return-tuple',\n",
       " 'inputs': {},\n",
       " 'outputs': {'artifacts': [{'name': 'return-tuple-a',\n",
       "    'path': '/tmp/outputs/a/data'},\n",
       "   {'name': 'return-tuple-b', 'path': '/tmp/outputs/b/data'},\n",
       "   {'name': 'return-tuple-c', 'path': '/tmp/outputs/c/data'}]},\n",
       " 'metadata': {'annotations': {'pipelines.kubeflow.org/arguments.parameters': '{\"a\": \"5\", \"b\": \"Hello There!\", \"c\": \"{\\\\\"key\\\\\": \\\\\"value\\\\\"}\"}',\n",
       "   'pipelines.kubeflow.org/component_ref': '{}',\n",
       "   'pipelines.kubeflow.org/component_spec': '{\"implementation\": {\"container\": {\"args\": [\"--a\", {\"inputValue\": \"a\"}, \"--b\", {\"inputValue\": \"b\"}, \"--c\", {\"inputValue\": \"c\"}, \"----output-paths\", {\"outputPath\": \"a\"}, {\"outputPath\": \"b\"}, {\"outputPath\": \"c\"}], \"command\": [\"sh\", \"-ec\", \"program_path=$(mktemp)\\\\nprintf \\\\\"%s\\\\\" \\\\\"$0\\\\\" > \\\\\"$program_path\\\\\"\\\\npython3 -u \\\\\"$program_path\\\\\" \\\\\"$@\\\\\"\\\\n\", \"def return_tuple(\\\\n    a,\\\\n    b,\\\\n    c\\\\n):\\\\n    return (a, b, c)\\\\n\\\\ndef _serialize_int(int_value: int) -> str:\\\\n    if isinstance(int_value, str):\\\\n        return int_value\\\\n    if not isinstance(int_value, int):\\\\n        raise TypeError(\\'Value \\\\\"{}\\\\\" has type \\\\\"{}\\\\\" instead of int.\\'.format(\\\\n            str(int_value), str(type(int_value))))\\\\n    return str(int_value)\\\\n\\\\ndef _serialize_json(obj) -> str:\\\\n    if isinstance(obj, str):\\\\n        return obj\\\\n    import json\\\\n\\\\n    def default_serializer(obj):\\\\n        if hasattr(obj, \\'to_struct\\'):\\\\n            return obj.to_struct()\\\\n        else:\\\\n            raise TypeError(\\\\n                \\\\\"Object of type \\'%s\\' is not JSON serializable and does not have .to_struct() method.\\\\\"\\\\n                % obj.__class__.__name__)\\\\n\\\\n    return json.dumps(obj, default=default_serializer, sort_keys=True)\\\\n\\\\ndef _serialize_str(str_value: str) -> str:\\\\n    if not isinstance(str_value, str):\\\\n        raise TypeError(\\'Value \\\\\"{}\\\\\" has type \\\\\"{}\\\\\" instead of str.\\'.format(\\\\n            str(str_value), str(type(str_value))))\\\\n    return str_value\\\\n\\\\nimport json\\\\nimport argparse\\\\n_parser = argparse.ArgumentParser(prog=\\'Return tuple\\', description=\\'\\')\\\\n_parser.add_argument(\\\\\"--a\\\\\", dest=\\\\\"a\\\\\", type=int, required=True, default=argparse.SUPPRESS)\\\\n_parser.add_argument(\\\\\"--b\\\\\", dest=\\\\\"b\\\\\", type=str, required=True, default=argparse.SUPPRESS)\\\\n_parser.add_argument(\\\\\"--c\\\\\", dest=\\\\\"c\\\\\", type=json.loads, required=True, default=argparse.SUPPRESS)\\\\n_parser.add_argument(\\\\\"----output-paths\\\\\", dest=\\\\\"_output_paths\\\\\", type=str, nargs=3)\\\\n_parsed_args = vars(_parser.parse_args())\\\\n_output_files = _parsed_args.pop(\\\\\"_output_paths\\\\\", [])\\\\n\\\\n_outputs = return_tuple(**_parsed_args)\\\\n\\\\n_output_serializers = [\\\\n    _serialize_int,\\\\n    _serialize_str,\\\\n    _serialize_json,\\\\n\\\\n]\\\\n\\\\nimport os\\\\nfor idx, output_file in enumerate(_output_files):\\\\n    try:\\\\n        os.makedirs(os.path.dirname(output_file))\\\\n    except OSError:\\\\n        pass\\\\n    with open(output_file, \\'w\\') as f:\\\\n        f.write(_output_serializers[idx](_outputs[idx]))\\\\n\"], \"image\": \"python:3.7\"}}, \"inputs\": [{\"name\": \"a\", \"type\": \"Integer\"}, {\"name\": \"b\", \"type\": \"String\"}, {\"name\": \"c\", \"type\": \"JsonObject\"}], \"name\": \"Return tuple\", \"outputs\": [{\"name\": \"a\", \"type\": \"Integer\"}, {\"name\": \"b\", \"type\": \"String\"}, {\"name\": \"c\", \"type\": \"JsonObject\"}]}',\n",
       "   'pipelines.kubeflow.org/max_cache_staleness': 'P0D',\n",
       "   'sidecar.istio.io/inject': 'false'},\n",
       "  'labels': {'pipelines.kubeflow.org/cache_enabled': 'true',\n",
       "   'pipelines.kubeflow.org/enable_caching': 'true',\n",
       "   'pipelines.kubeflow.org/kfp_sdk_version': '1.8.18',\n",
       "   'pipelines.kubeflow.org/pipeline-sdk-type': 'kfp'}},\n",
       " 'container': {'name': '',\n",
       "  'image': 'python:3.7',\n",
       "  'command': ['sh',\n",
       "   '-ec',\n",
       "   'program_path=$(mktemp)\\nprintf \"%s\" \"$0\" > \"$program_path\"\\npython3 -u \"$program_path\" \"$@\"\\n',\n",
       "   'def return_tuple(\\n    a,\\n    b,\\n    c\\n):\\n    return (a, b, c)\\n\\ndef _serialize_int(int_value: int) -> str:\\n    if isinstance(int_value, str):\\n        return int_value\\n    if not isinstance(int_value, int):\\n        raise TypeError(\\'Value \"{}\" has type \"{}\" instead of int.\\'.format(\\n            str(int_value), str(type(int_value))))\\n    return str(int_value)\\n\\ndef _serialize_json(obj) -> str:\\n    if isinstance(obj, str):\\n        return obj\\n    import json\\n\\n    def default_serializer(obj):\\n        if hasattr(obj, \\'to_struct\\'):\\n            return obj.to_struct()\\n        else:\\n            raise TypeError(\\n                \"Object of type \\'%s\\' is not JSON serializable and does not have .to_struct() method.\"\\n                % obj.__class__.__name__)\\n\\n    return json.dumps(obj, default=default_serializer, sort_keys=True)\\n\\ndef _serialize_str(str_value: str) -> str:\\n    if not isinstance(str_value, str):\\n        raise TypeError(\\'Value \"{}\" has type \"{}\" instead of str.\\'.format(\\n            str(str_value), str(type(str_value))))\\n    return str_value\\n\\nimport json\\nimport argparse\\n_parser = argparse.ArgumentParser(prog=\\'Return tuple\\', description=\\'\\')\\n_parser.add_argument(\"--a\", dest=\"a\", type=int, required=True, default=argparse.SUPPRESS)\\n_parser.add_argument(\"--b\", dest=\"b\", type=str, required=True, default=argparse.SUPPRESS)\\n_parser.add_argument(\"--c\", dest=\"c\", type=json.loads, required=True, default=argparse.SUPPRESS)\\n_parser.add_argument(\"----output-paths\", dest=\"_output_paths\", type=str, nargs=3)\\n_parsed_args = vars(_parser.parse_args())\\n_output_files = _parsed_args.pop(\"_output_paths\", [])\\n\\n_outputs = return_tuple(**_parsed_args)\\n\\n_output_serializers = [\\n    _serialize_int,\\n    _serialize_str,\\n    _serialize_json,\\n\\n]\\n\\nimport os\\nfor idx, output_file in enumerate(_output_files):\\n    try:\\n        os.makedirs(os.path.dirname(output_file))\\n    except OSError:\\n        pass\\n    with open(output_file, \\'w\\') as f:\\n        f.write(_output_serializers[idx](_outputs[idx]))\\n'],\n",
       "  'args': ['--a',\n",
       "   '5',\n",
       "   '--b',\n",
       "   'Hello There!',\n",
       "   '--c',\n",
       "   '{\"key\": \"value\"}',\n",
       "   '----output-paths',\n",
       "   '/tmp/outputs/a/data',\n",
       "   '/tmp/outputs/b/data',\n",
       "   '/tmp/outputs/c/data'],\n",
       "  'resources': {}}}"
      ]
     },
     "execution_count": 6,
     "metadata": {},
     "output_type": "execute_result"
    }
   ],
   "source": [
    "d.get_pod_nodes()[0].node_template"
   ]
  },
  {
   "cell_type": "code",
   "execution_count": 79,
   "metadata": {},
   "outputs": [
    {
     "name": "stdout",
     "output_type": "stream",
     "text": [
      "{'client': <kfp._client.Client object at 0x7f925dd7f9d0>, 'run_id': 'd8bf1ad4-433a-4e3f-af03-9c488324d5e4', 'node_id': 'simple-returns-rxgdp-1342857766', 'artifact_name': 'return-int-2-Output'}\n"
     ]
    },
    {
     "data": {
      "text/plain": [
       "{'return-int-2-Output': 2}"
      ]
     },
     "execution_count": 79,
     "metadata": {},
     "output_type": "execute_result"
    }
   ],
   "source": [
    "d.get_pod_nodes()[0].get_output_data()"
   ]
  },
  {
   "cell_type": "code",
   "execution_count": 84,
   "metadata": {},
   "outputs": [
    {
     "data": {
      "text/plain": [
       "{'id': 'simple-returns-rxgdp-1875373138',\n",
       " 'name': 'simple-returns-rxgdp.for-loop-2(0:3).return-int-3',\n",
       " 'displayName': 'return-int-3',\n",
       " 'type': 'Pod',\n",
       " 'templateName': 'return-int-3',\n",
       " 'templateScope': 'local/simple-returns-rxgdp',\n",
       " 'phase': 'Succeeded',\n",
       " 'boundaryID': 'simple-returns-rxgdp-603933686',\n",
       " 'startedAt': '2024-03-04T21:55:07Z',\n",
       " 'finishedAt': '2024-03-04T21:55:09Z',\n",
       " 'progress': '1/1',\n",
       " 'resourcesDuration': {'cpu': 1, 'memory': 0},\n",
       " 'inputs': {'parameters': [{'name': 'loop-item-param-1', 'value': '3'}]},\n",
       " 'outputs': {'artifacts': [{'name': 'return-int-3-Output',\n",
       "    'path': '/tmp/outputs/Output/data',\n",
       "    's3': {'key': 'artifacts/simple-returns-rxgdp/2024/03/04/simple-returns-rxgdp-1875373138/return-int-3-Output.tgz'}},\n",
       "   {'name': 'main-logs',\n",
       "    's3': {'key': 'artifacts/simple-returns-rxgdp/2024/03/04/simple-returns-rxgdp-1875373138/main.log'}}],\n",
       "  'exitCode': '0'},\n",
       " 'hostNodeName': 'minikube'}"
      ]
     },
     "execution_count": 84,
     "metadata": {},
     "output_type": "execute_result"
    }
   ],
   "source": [
    "d.get_pod_nodes()[2].node"
   ]
  },
  {
   "cell_type": "code",
   "execution_count": 76,
   "metadata": {},
   "outputs": [
    {
     "name": "stdout",
     "output_type": "stream",
     "text": [
      "{'client': <kfp._client.Client object at 0x7f925dd7f9d0>, 'run_id': 'd8bf1ad4-433a-4e3f-af03-9c488324d5e4', 'node_id': 'simple-returns-rxgdp-1342857766', 'artifact_name': 'return-int-2-Output'}\n"
     ]
    },
    {
     "data": {
      "text/plain": [
       "{'data': '2'}"
      ]
     },
     "execution_count": 76,
     "metadata": {},
     "output_type": "execute_result"
    }
   ],
   "source": [
    "from kfp_analyze.kfp_util import get_artifact\n",
    "\n",
    "node = d.get_pod_nodes()[0].node\n",
    "\n",
    "get_artifact(\n",
    "    client,\n",
    "    d.run_id,\n",
    "    node['id'],\n",
    "    node['outputs']['artifacts'][0]['name']\n",
    ")"
   ]
  },
  {
   "cell_type": "code",
   "execution_count": null,
   "metadata": {},
   "outputs": [],
   "source": [
    "d.graph_viz()"
   ]
  },
  {
   "cell_type": "code",
   "execution_count": null,
   "metadata": {},
   "outputs": [],
   "source": []
  }
 ],
 "metadata": {
  "kernelspec": {
   "display_name": "kfp-analyze",
   "language": "python",
   "name": "python3"
  },
  "language_info": {
   "codemirror_mode": {
    "name": "ipython",
    "version": 3
   },
   "file_extension": ".py",
   "mimetype": "text/x-python",
   "name": "python",
   "nbconvert_exporter": "python",
   "pygments_lexer": "ipython3",
   "version": "3.9.18"
  },
  "orig_nbformat": 4
 },
 "nbformat": 4,
 "nbformat_minor": 2
}
